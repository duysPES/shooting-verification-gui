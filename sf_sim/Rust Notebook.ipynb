{
 "cells": [
  {
   "cell_type": "code",
   "execution_count": 2,
   "metadata": {},
   "outputs": [],
   "source": [
    ":dep futures = {version = \"0.3\"}\n",
    "\n",
    "use futures::join;\n",
    "use futures::try_join;"
   ]
  },
  {
   "cell_type": "code",
   "execution_count": 18,
   "metadata": {},
   "outputs": [
    {
     "ename": "Error",
     "evalue": "type mismatch resolving `<impl core::future::future::Future as core::future::future::Future>::Output == Music`",
     "output_type": "error",
     "traceback": [
      "async fn get_music() -> Music{",
      "\u001b[91m                        ^^^^^\u001b[0m \u001b[94mexpected enum `std::result::Result`, found struct `Music`\u001b[0m",
      "type mismatch resolving `<impl core::future::future::Future as core::future::future::Future>::Output == Music`"
     ]
    },
    {
     "ename": "Error",
     "evalue": "type mismatch resolving `<impl core::future::future::Future as core::future::future::Future>::Output == Book`",
     "output_type": "error",
     "traceback": [
      "async fn get_book() -> Book{",
      "\u001b[91m                       ^^^^\u001b[0m \u001b[94mexpected enum `std::result::Result`, found struct `Book`\u001b[0m",
      "type mismatch resolving `<impl core::future::future::Future as core::future::future::Future>::Output == Book`"
     ]
    }
   ],
   "source": [
    "#[derive(Debug)]\n",
    "struct Book;\n",
    "\n",
    "#[derive(Debug)]\n",
    "struct Music;\n",
    "\n",
    "async fn get_book() -> Book{\n",
    "    \n",
    "    Ok(Book)\n",
    "}\n",
    "\n",
    "async fn get_music() -> Music{\n",
    "    Ok(Music)\n",
    "}\n",
    "\n",
    "async fn get_book_and_music() -> (Book, Music){\n",
    "    let book_fut = get_book();\n",
    "    let music_fut = get_music();\n",
    "    join!(book_fut, music_fut)\n",
    "    \n",
    "}"
   ]
  },
  {
   "cell_type": "code",
   "execution_count": 17,
   "metadata": {},
   "outputs": [
    {
     "ename": "Error",
     "evalue": "`impl core::future::future::Future` doesn't implement `std::fmt::Debug`",
     "output_type": "error",
     "traceback": [
      "println!(\"{:?}\", get_book_and_music())",
      "\u001b[91m                 ^^^^^^^^^^^^^^^^^^^^\u001b[0m \u001b[94m`impl core::future::future::Future` cannot be formatted using `{:?}` because it doesn't implement `std::fmt::Debug`\u001b[0m",
      "`impl core::future::future::Future` doesn't implement `std::fmt::Debug`"
     ]
    }
   ],
   "source": [
    "println!(\"{:?}\", get_book_and_music())"
   ]
  },
  {
   "cell_type": "code",
   "execution_count": null,
   "metadata": {},
   "outputs": [],
   "source": []
  }
 ],
 "metadata": {
  "kernelspec": {
   "display_name": "Rust",
   "language": "rust",
   "name": "rust"
  },
  "language_info": {
   "codemirror_mode": "rust",
   "file_extension": ".rs",
   "mimetype": "text/rust",
   "name": "Rust",
   "pygment_lexer": "rust",
   "version": ""
  }
 },
 "nbformat": 4,
 "nbformat_minor": 2
}
